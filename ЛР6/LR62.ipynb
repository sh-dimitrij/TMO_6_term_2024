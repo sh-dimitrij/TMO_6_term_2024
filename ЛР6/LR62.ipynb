{
 "cells": [
  {
   "cell_type": "code",
   "execution_count": 91,
   "metadata": {},
   "outputs": [],
   "source": [
    "import pandas as pd\n",
    "import matplotlib.pyplot as plt\n",
    "import seaborn as sns\n",
    "import numpy as np\n",
    "from sklearn.model_selection import train_test_split\n",
    "import matplotlib.ticker as ticker\n",
    "from sklearn.neighbors import KNeighborsRegressor, KNeighborsClassifier\n",
    "import math\n",
    "from enum import Enum\n",
    "import os\n",
    "# from plotly.express import line\n",
    "#import data\n",
    "#import plotly.express as px\n",
    "# %matplotlib inline \n",
    "sns.set(style=\"ticks\")\n",
    "plt.style.use('ggplot')\n",
    "pd.set_option('display.max_columns',24)\n",
    "pd.set_option('display.max_colwidth',None)\n",
    "pd.set_option('display.float_format', lambda x: '%.4f' % x)"
   ]
  },
  {
   "cell_type": "code",
   "execution_count": 92,
   "metadata": {},
   "outputs": [
    {
     "name": "stdout",
     "output_type": "stream",
     "text": [
      "<class 'pandas.core.frame.DataFrame'>\n",
      "RangeIndex: 13580 entries, 0 to 13579\n",
      "Data columns (total 21 columns):\n",
      " #   Column         Non-Null Count  Dtype  \n",
      "---  ------         --------------  -----  \n",
      " 0   Suburb         13580 non-null  object \n",
      " 1   Address        13580 non-null  object \n",
      " 2   Rooms          13580 non-null  int64  \n",
      " 3   Type           13580 non-null  object \n",
      " 4   Price          13580 non-null  float64\n",
      " 5   Method         13580 non-null  object \n",
      " 6   SellerG        13580 non-null  object \n",
      " 7   Date           13580 non-null  object \n",
      " 8   Distance       13580 non-null  float64\n",
      " 9   Postcode       13580 non-null  float64\n",
      " 10  Bedroom2       13580 non-null  float64\n",
      " 11  Bathroom       13580 non-null  float64\n",
      " 12  Car            13518 non-null  float64\n",
      " 13  Landsize       13580 non-null  float64\n",
      " 14  BuildingArea   7130 non-null   float64\n",
      " 15  YearBuilt      8205 non-null   float64\n",
      " 16  CouncilArea    12211 non-null  object \n",
      " 17  Lattitude      13580 non-null  float64\n",
      " 18  Longtitude     13580 non-null  float64\n",
      " 19  Regionname     13580 non-null  object \n",
      " 20  Propertycount  13580 non-null  float64\n",
      "dtypes: float64(12), int64(1), object(8)\n",
      "memory usage: 2.2+ MB\n"
     ]
    }
   ],
   "source": [
    "encoding = 'windows-1250'\n",
    "data=pd.read_csv(r'C:\\Users\\Dima\\Desktop\\Homework\\3 курс\\ТМО\\ЛР6\\melb_data.csv', encoding = encoding)\n",
    "data.shape\n",
    "data.info()"
   ]
  },
  {
   "cell_type": "code",
   "execution_count": 93,
   "metadata": {},
   "outputs": [
    {
     "data": {
      "text/html": [
       "<div>\n",
       "<style scoped>\n",
       "    .dataframe tbody tr th:only-of-type {\n",
       "        vertical-align: middle;\n",
       "    }\n",
       "\n",
       "    .dataframe tbody tr th {\n",
       "        vertical-align: top;\n",
       "    }\n",
       "\n",
       "    .dataframe thead th {\n",
       "        text-align: right;\n",
       "    }\n",
       "</style>\n",
       "<table border=\"1\" class=\"dataframe\">\n",
       "  <thead>\n",
       "    <tr style=\"text-align: right;\">\n",
       "      <th></th>\n",
       "      <th>Rooms</th>\n",
       "      <th>Price</th>\n",
       "      <th>Distance</th>\n",
       "      <th>Postcode</th>\n",
       "      <th>Bedroom2</th>\n",
       "      <th>Bathroom</th>\n",
       "      <th>Car</th>\n",
       "      <th>Landsize</th>\n",
       "      <th>BuildingArea</th>\n",
       "      <th>YearBuilt</th>\n",
       "      <th>Lattitude</th>\n",
       "      <th>Longtitude</th>\n",
       "      <th>Propertycount</th>\n",
       "    </tr>\n",
       "  </thead>\n",
       "  <tbody>\n",
       "    <tr>\n",
       "      <th>count</th>\n",
       "      <td>13580.0000</td>\n",
       "      <td>13580.0000</td>\n",
       "      <td>13580.0000</td>\n",
       "      <td>13580.0000</td>\n",
       "      <td>13580.0000</td>\n",
       "      <td>13580.0000</td>\n",
       "      <td>13518.0000</td>\n",
       "      <td>13580.0000</td>\n",
       "      <td>7130.0000</td>\n",
       "      <td>8205.0000</td>\n",
       "      <td>13580.0000</td>\n",
       "      <td>13580.0000</td>\n",
       "      <td>13580.0000</td>\n",
       "    </tr>\n",
       "    <tr>\n",
       "      <th>mean</th>\n",
       "      <td>2.9380</td>\n",
       "      <td>1075684.0795</td>\n",
       "      <td>10.1378</td>\n",
       "      <td>3105.3019</td>\n",
       "      <td>2.9147</td>\n",
       "      <td>1.5342</td>\n",
       "      <td>1.6101</td>\n",
       "      <td>558.4161</td>\n",
       "      <td>151.9676</td>\n",
       "      <td>1964.6842</td>\n",
       "      <td>-37.8092</td>\n",
       "      <td>144.9952</td>\n",
       "      <td>7454.4174</td>\n",
       "    </tr>\n",
       "    <tr>\n",
       "      <th>std</th>\n",
       "      <td>0.9557</td>\n",
       "      <td>639310.7243</td>\n",
       "      <td>5.8687</td>\n",
       "      <td>90.6770</td>\n",
       "      <td>0.9659</td>\n",
       "      <td>0.6917</td>\n",
       "      <td>0.9626</td>\n",
       "      <td>3990.6692</td>\n",
       "      <td>541.0145</td>\n",
       "      <td>37.2738</td>\n",
       "      <td>0.0793</td>\n",
       "      <td>0.1039</td>\n",
       "      <td>4378.5818</td>\n",
       "    </tr>\n",
       "    <tr>\n",
       "      <th>min</th>\n",
       "      <td>1.0000</td>\n",
       "      <td>85000.0000</td>\n",
       "      <td>0.0000</td>\n",
       "      <td>3000.0000</td>\n",
       "      <td>0.0000</td>\n",
       "      <td>0.0000</td>\n",
       "      <td>0.0000</td>\n",
       "      <td>0.0000</td>\n",
       "      <td>0.0000</td>\n",
       "      <td>1196.0000</td>\n",
       "      <td>-38.1825</td>\n",
       "      <td>144.4318</td>\n",
       "      <td>249.0000</td>\n",
       "    </tr>\n",
       "    <tr>\n",
       "      <th>25%</th>\n",
       "      <td>2.0000</td>\n",
       "      <td>650000.0000</td>\n",
       "      <td>6.1000</td>\n",
       "      <td>3044.0000</td>\n",
       "      <td>2.0000</td>\n",
       "      <td>1.0000</td>\n",
       "      <td>1.0000</td>\n",
       "      <td>177.0000</td>\n",
       "      <td>93.0000</td>\n",
       "      <td>1940.0000</td>\n",
       "      <td>-37.8568</td>\n",
       "      <td>144.9296</td>\n",
       "      <td>4380.0000</td>\n",
       "    </tr>\n",
       "    <tr>\n",
       "      <th>50%</th>\n",
       "      <td>3.0000</td>\n",
       "      <td>903000.0000</td>\n",
       "      <td>9.2000</td>\n",
       "      <td>3084.0000</td>\n",
       "      <td>3.0000</td>\n",
       "      <td>1.0000</td>\n",
       "      <td>2.0000</td>\n",
       "      <td>440.0000</td>\n",
       "      <td>126.0000</td>\n",
       "      <td>1970.0000</td>\n",
       "      <td>-37.8024</td>\n",
       "      <td>145.0001</td>\n",
       "      <td>6555.0000</td>\n",
       "    </tr>\n",
       "    <tr>\n",
       "      <th>75%</th>\n",
       "      <td>3.0000</td>\n",
       "      <td>1330000.0000</td>\n",
       "      <td>13.0000</td>\n",
       "      <td>3148.0000</td>\n",
       "      <td>3.0000</td>\n",
       "      <td>2.0000</td>\n",
       "      <td>2.0000</td>\n",
       "      <td>651.0000</td>\n",
       "      <td>174.0000</td>\n",
       "      <td>1999.0000</td>\n",
       "      <td>-37.7564</td>\n",
       "      <td>145.0583</td>\n",
       "      <td>10331.0000</td>\n",
       "    </tr>\n",
       "    <tr>\n",
       "      <th>max</th>\n",
       "      <td>10.0000</td>\n",
       "      <td>9000000.0000</td>\n",
       "      <td>48.1000</td>\n",
       "      <td>3977.0000</td>\n",
       "      <td>20.0000</td>\n",
       "      <td>8.0000</td>\n",
       "      <td>10.0000</td>\n",
       "      <td>433014.0000</td>\n",
       "      <td>44515.0000</td>\n",
       "      <td>2018.0000</td>\n",
       "      <td>-37.4085</td>\n",
       "      <td>145.5264</td>\n",
       "      <td>21650.0000</td>\n",
       "    </tr>\n",
       "  </tbody>\n",
       "</table>\n",
       "</div>"
      ],
      "text/plain": [
       "           Rooms        Price   Distance   Postcode   Bedroom2   Bathroom  \\\n",
       "count 13580.0000   13580.0000 13580.0000 13580.0000 13580.0000 13580.0000   \n",
       "mean      2.9380 1075684.0795    10.1378  3105.3019     2.9147     1.5342   \n",
       "std       0.9557  639310.7243     5.8687    90.6770     0.9659     0.6917   \n",
       "min       1.0000   85000.0000     0.0000  3000.0000     0.0000     0.0000   \n",
       "25%       2.0000  650000.0000     6.1000  3044.0000     2.0000     1.0000   \n",
       "50%       3.0000  903000.0000     9.2000  3084.0000     3.0000     1.0000   \n",
       "75%       3.0000 1330000.0000    13.0000  3148.0000     3.0000     2.0000   \n",
       "max      10.0000 9000000.0000    48.1000  3977.0000    20.0000     8.0000   \n",
       "\n",
       "             Car    Landsize  BuildingArea  YearBuilt  Lattitude  Longtitude  \\\n",
       "count 13518.0000  13580.0000     7130.0000  8205.0000 13580.0000  13580.0000   \n",
       "mean      1.6101    558.4161      151.9676  1964.6842   -37.8092    144.9952   \n",
       "std       0.9626   3990.6692      541.0145    37.2738     0.0793      0.1039   \n",
       "min       0.0000      0.0000        0.0000  1196.0000   -38.1825    144.4318   \n",
       "25%       1.0000    177.0000       93.0000  1940.0000   -37.8568    144.9296   \n",
       "50%       2.0000    440.0000      126.0000  1970.0000   -37.8024    145.0001   \n",
       "75%       2.0000    651.0000      174.0000  1999.0000   -37.7564    145.0583   \n",
       "max      10.0000 433014.0000    44515.0000  2018.0000   -37.4085    145.5264   \n",
       "\n",
       "       Propertycount  \n",
       "count     13580.0000  \n",
       "mean       7454.4174  \n",
       "std        4378.5818  \n",
       "min         249.0000  \n",
       "25%        4380.0000  \n",
       "50%        6555.0000  \n",
       "75%       10331.0000  \n",
       "max       21650.0000  "
      ]
     },
     "execution_count": 93,
     "metadata": {},
     "output_type": "execute_result"
    }
   ],
   "source": [
    "data.describe()"
   ]
  },
  {
   "cell_type": "code",
   "execution_count": 94,
   "metadata": {},
   "outputs": [
    {
     "data": {
      "text/plain": [
       "Suburb            object\n",
       "Address           object\n",
       "Rooms              int64\n",
       "Type              object\n",
       "Price            float64\n",
       "Method            object\n",
       "SellerG           object\n",
       "Date              object\n",
       "Distance         float64\n",
       "Postcode         float64\n",
       "Bedroom2         float64\n",
       "Bathroom         float64\n",
       "Car              float64\n",
       "Landsize         float64\n",
       "BuildingArea     float64\n",
       "YearBuilt        float64\n",
       "CouncilArea       object\n",
       "Lattitude        float64\n",
       "Longtitude       float64\n",
       "Regionname        object\n",
       "Propertycount    float64\n",
       "dtype: object"
      ]
     },
     "execution_count": 94,
     "metadata": {},
     "output_type": "execute_result"
    }
   ],
   "source": [
    "data.dtypes"
   ]
  },
  {
   "cell_type": "code",
   "execution_count": 95,
   "metadata": {},
   "outputs": [],
   "source": [
    "type_mapping = {\n",
    "    \"h\": \"house\",\n",
    "    \"u\": \"unit\",\n",
    "    \"t\": \"townhouse\"\n",
    "}\n",
    "\n",
    "# Map the values in the \"Type\" column\n",
    "data[\"Type\"] = data[\"Type\"].map(type_mapping)"
   ]
  },
  {
   "cell_type": "code",
   "execution_count": 96,
   "metadata": {},
   "outputs": [],
   "source": [
    "method = { \"S\": \"sold\",\n",
    "          \"SP\" : \"sold prior\",\n",
    "          \"PI\" : \"passed in\",\n",
    "          \"VB\" : \"vendor bid\"}\n",
    "data['Method'] = data['Method'].map(method)"
   ]
  },
  {
   "cell_type": "code",
   "execution_count": 97,
   "metadata": {},
   "outputs": [
    {
     "data": {
      "text/plain": [
       "Suburb              0\n",
       "Address             0\n",
       "Rooms               0\n",
       "Type                0\n",
       "Price               0\n",
       "Method             92\n",
       "SellerG             0\n",
       "Date                0\n",
       "Distance            0\n",
       "Postcode            0\n",
       "Bedroom2            0\n",
       "Bathroom            0\n",
       "Car                62\n",
       "Landsize            0\n",
       "BuildingArea     6450\n",
       "YearBuilt        5375\n",
       "CouncilArea      1369\n",
       "Lattitude           0\n",
       "Longtitude          0\n",
       "Regionname          0\n",
       "Propertycount       0\n",
       "dtype: int64"
      ]
     },
     "execution_count": 97,
     "metadata": {},
     "output_type": "execute_result"
    }
   ],
   "source": [
    "null_columns = data.columns[data.isnull().any()]\n",
    "data.isnull().sum()"
   ]
  },
  {
   "cell_type": "code",
   "execution_count": 98,
   "metadata": {},
   "outputs": [
    {
     "data": {
      "text/plain": [
       "Index(['Method', 'Car', 'BuildingArea', 'YearBuilt', 'CouncilArea'], dtype='object')"
      ]
     },
     "execution_count": 98,
     "metadata": {},
     "output_type": "execute_result"
    }
   ],
   "source": [
    "null_columns"
   ]
  },
  {
   "cell_type": "code",
   "execution_count": 99,
   "metadata": {},
   "outputs": [
    {
     "data": {
      "text/plain": [
       "Text(0.5, 1.0, 'Пропуски')"
      ]
     },
     "execution_count": 99,
     "metadata": {},
     "output_type": "execute_result"
    },
    {
     "data": {
      "image/png": "[encoded data removed]",
      "text/plain": [
       "<Figure size 600x500 with 1 Axes>"
      ]
     },
     "metadata": {},
     "output_type": "display_data"
    }
   ],
   "source": [
    "%matplotlib inline\n",
    "import matplotlib.pyplot as plt\n",
    "import seaborn as sns\n",
    "sns.set(font_scale=1)\n",
    "\n",
    "# pd.options.display.mpl_style = 'default'\n",
    "labels = []\n",
    "values = []\n",
    "for col in null_columns:\n",
    "    labels.append(col)\n",
    "    values.append(data[col].isnull().sum())\n",
    "ind = np.arange(len(labels))\n",
    "width=0.6\n",
    "fig, ax = plt.subplots(figsize=(6,5))\n",
    "rects = ax.barh(ind, np.array(values), color='purple')\n",
    "ax.set_yticks(ind+((width)/2.))\n",
    "ax.set_yticklabels(labels, rotation='horizontal')\n",
    "ax.set_xlabel(\"Количество пропусков\")\n",
    "ax.set_ylabel(\"Столбцы\")\n",
    "ax.set_title(\"Пропуски\")"
   ]
  },
  {
   "cell_type": "code",
   "execution_count": 100,
   "metadata": {},
   "outputs": [],
   "source": [
    "# Удаление строк с пропущенными значениями в столбцах \"Method\" и \"Car\"\n",
    "data.dropna(subset=[\"Method\", \"Car\"], inplace=True)\n"
   ]
  },
  {
   "cell_type": "code",
   "execution_count": 101,
   "metadata": {},
   "outputs": [],
   "source": [
    "# Заполнение пропущенных значений в столбцах \"BuildingArea\", \"YearBuilt\" и \"CouncilArea\"\n",
    "# Для числовых столбцов можно использовать медиану\n",
    "median_BuildingArea = data[\"BuildingArea\"].median()\n",
    "median_YearBuilt = data[\"YearBuilt\"].median()\n",
    "# Для категориального столбца можно использовать наиболее часто встречающееся значение\n",
    "mode_CouncilArea = data[\"CouncilArea\"].mode()[0]\n",
    "\n",
    "data[\"BuildingArea\"].fillna(median_BuildingArea, inplace=True)\n",
    "data[\"YearBuilt\"].fillna(median_YearBuilt, inplace=True)\n",
    "data[\"CouncilArea\"].fillna(mode_CouncilArea, inplace=True)\n"
   ]
  },
  {
   "cell_type": "code",
   "execution_count": 102,
   "metadata": {},
   "outputs": [
    {
     "data": {
      "text/plain": [
       "(13427, 21)"
      ]
     },
     "execution_count": 102,
     "metadata": {},
     "output_type": "execute_result"
    }
   ],
   "source": [
    "data.shape"
   ]
  },
  {
   "cell_type": "code",
   "execution_count": 103,
   "metadata": {},
   "outputs": [
    {
     "data": {
      "text/plain": [
       "['Rooms', 'Type', 'Method', 'Bedroom2', 'Bathroom', 'Car', 'Regionname']"
      ]
     },
     "execution_count": 103,
     "metadata": {},
     "output_type": "execute_result"
    }
   ],
   "source": [
    "categorical_columns = [ cname for cname in data.columns if\n",
    "                      data[cname].nunique() < 20 and\n",
    "                      data[cname].dtypes in ['object','int64','float64']]\n",
    "categorical_columns"
   ]
  },
  {
   "cell_type": "code",
   "execution_count": 104,
   "metadata": {},
   "outputs": [
    {
     "name": "stdout",
     "output_type": "stream",
     "text": [
      "Rooms\n",
      "Rooms\n",
      "3     5809\n",
      "2     3602\n",
      "4     2665\n",
      "1      674\n",
      "5      591\n",
      "6       67\n",
      "7       10\n",
      "8        8\n",
      "10       1\n",
      "Name: count, dtype: int64\n",
      "Type\n",
      "Type\n",
      "house        9324\n",
      "unit         2996\n",
      "townhouse    1107\n",
      "Name: count, dtype: int64\n",
      "Method\n",
      "Method\n",
      "sold          8988\n",
      "sold prior    1695\n",
      "passed in     1557\n",
      "vendor bid    1187\n",
      "Name: count, dtype: int64\n",
      "Bedroom2\n",
      "Bedroom2\n",
      "3.0000     5823\n",
      "2.0000     3691\n",
      "4.0000     2580\n",
      "1.0000      684\n",
      "5.0000      550\n",
      "6.0000       63\n",
      "0.0000       16\n",
      "7.0000       10\n",
      "8.0000        5\n",
      "9.0000        3\n",
      "20.0000       1\n",
      "10.0000       1\n",
      "Name: count, dtype: int64\n",
      "Bathroom\n",
      "Bathroom\n",
      "1.0000    7419\n",
      "2.0000    4921\n",
      "3.0000     912\n",
      "4.0000     104\n",
      "0.0000      34\n",
      "5.0000      28\n",
      "6.0000       5\n",
      "7.0000       2\n",
      "8.0000       2\n",
      "Name: count, dtype: int64\n",
      "Car\n",
      "Car\n",
      "2.0000     5538\n",
      "1.0000     5480\n",
      "0.0000     1024\n",
      "3.0000      744\n",
      "4.0000      504\n",
      "5.0000       63\n",
      "6.0000       53\n",
      "8.0000        9\n",
      "7.0000        8\n",
      "10.0000       3\n",
      "9.0000        1\n",
      "Name: count, dtype: int64\n",
      "Regionname\n",
      "Regionname\n",
      "Southern Metropolitan         4630\n",
      "Northern Metropolitan         3852\n",
      "Western Metropolitan          2920\n",
      "Eastern Metropolitan          1455\n",
      "South-Eastern Metropolitan     447\n",
      "Eastern Victoria                52\n",
      "Northern Victoria               39\n",
      "Western Victoria                32\n",
      "Name: count, dtype: int64\n"
     ]
    }
   ],
   "source": [
    "for name in categorical_columns:\n",
    "    print(name)\n",
    "    print(data[name].value_counts())"
   ]
  },
  {
   "cell_type": "code",
   "execution_count": 105,
   "metadata": {},
   "outputs": [],
   "source": [
    "data = data.drop(columns='Suburb')\n",
    "data = data.drop(columns='Address')\n",
    "data = data.drop(columns='Type')\n",
    "data = data.drop(columns='Method')\n",
    "data = data.drop(columns='SellerG')\n",
    "data = data.drop(columns='Date')\n",
    "data = data.drop(columns='CouncilArea')\n",
    "data = data.drop(columns='Regionname')"
   ]
  },
  {
   "cell_type": "code",
   "execution_count": 106,
   "metadata": {},
   "outputs": [
    {
     "name": "stdout",
     "output_type": "stream",
     "text": [
      "Train R^2 Score: 0.583122357409775\n",
      "Test R^2 Score: 0.5289645894868265\n"
     ]
    },
    {
     "name": "stderr",
     "output_type": "stream",
     "text": [
      "C:\\Users\\Dima\\AppData\\Local\\Packages\\PythonSoftwareFoundation.Python.3.10_qbz5n2kfra8p0\\LocalCache\\local-packages\\Python310\\site-packages\\sklearn\\neural_network\\_multilayer_perceptron.py:691: ConvergenceWarning: Stochastic Optimizer: Maximum iterations (500) reached and the optimization hasn't converged yet.\n",
      "  warnings.warn(\n"
     ]
    }
   ],
   "source": [
    "from sklearn.model_selection import train_test_split\n",
    "from sklearn.preprocessing import StandardScaler\n",
    "from sklearn.neural_network import MLPRegressor\n",
    "\n",
    "# Подготовка данных\n",
    "# Заполнение пропущенных значений, кодирование категориальных признаков и т.д.\n",
    "\n",
    "# Выделение признаков и целевой переменной\n",
    "X = data.drop(columns=['Price'])  # Признаки\n",
    "y = data['Price']  # Целевая переменная\n",
    "\n",
    "# Разделение данных на обучающий и тестовый наборы\n",
    "X_train, X_test, y_train, y_test = train_test_split(X, y, test_size=0.2, random_state=42)\n",
    "\n",
    "# Масштабирование признаков\n",
    "scaler = StandardScaler()\n",
    "X_train_scaled = scaler.fit_transform(X_train)\n",
    "X_test_scaled = scaler.transform(X_test)\n",
    "\n",
    "# Обучение многослойного персептрона\n",
    "mlp = MLPRegressor(hidden_layer_sizes=(100, 50), activation='relu', solver='adam', max_iter=500)\n",
    "mlp.fit(X_train_scaled, y_train)\n",
    "\n",
    "# Оценка модели\n",
    "train_score = mlp.score(X_train_scaled, y_train)\n",
    "test_score = mlp.score(X_test_scaled, y_test)\n",
    "print(f'Train R^2 Score: {train_score}')\n",
    "print(f'Test R^2 Score: {test_score}')\n"
   ]
  }
 ],
 "metadata": {
  "kernelspec": {
   "display_name": "Python 3",
   "language": "python",
   "name": "python3"
  },
  "language_info": {
   "codemirror_mode": {
    "name": "ipython",
    "version": 3
   },
   "file_extension": ".py",
   "mimetype": "text/x-python",
   "name": "python",
   "nbconvert_exporter": "python",
   "pygments_lexer": "ipython3",
   "version": "3.10.11"
  }
 },
 "nbformat": 4,
 "nbformat_minor": 2
}
